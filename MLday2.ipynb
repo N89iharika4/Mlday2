{
  "nbformat": 4,
  "nbformat_minor": 0,
  "metadata": {
    "colab": {
      "name": "MLday2.ipynb",
      "private_outputs": true,
      "provenance": [],
      "collapsed_sections": []
    },
    "kernelspec": {
      "name": "python3",
      "display_name": "Python 3"
    },
    "language_info": {
      "name": "python"
    }
  },
  "cells": [
    {
      "cell_type": "code",
      "execution_count": null,
      "metadata": {
        "id": "XIO-nJkAB7MT"
      },
      "outputs": [],
      "source": [
        "import numpy as np\n",
        "import pandas as pd\n",
        "import matplotlib.pyplot as plt\n",
        "import seaborn as sns"
      ]
    },
    {
      "cell_type": "code",
      "source": [
        "from sklearn.datasets import load_diabetes"
      ],
      "metadata": {
        "id": "d54dzM9ZCd_A"
      },
      "execution_count": null,
      "outputs": []
    },
    {
      "cell_type": "code",
      "source": [
        "diabetes_data=load_diabetes()"
      ],
      "metadata": {
        "id": "_ZDUF9dTDLsr"
      },
      "execution_count": null,
      "outputs": []
    },
    {
      "cell_type": "code",
      "source": [
        "type(diabetes_data)"
      ],
      "metadata": {
        "id": "Is_bDfw_DUDV"
      },
      "execution_count": null,
      "outputs": []
    },
    {
      "cell_type": "code",
      "source": [
        "print(diabetes_data)"
      ],
      "metadata": {
        "id": "C4wzbRM1Dbfn"
      },
      "execution_count": null,
      "outputs": []
    },
    {
      "cell_type": "code",
      "source": [
        "df=pd.DataFrame(diabetes_data.data,columns=diabetes_data.feature_names)\n",
        "df"
      ],
      "metadata": {
        "id": "HvdcSwEbDi7z"
      },
      "execution_count": null,
      "outputs": []
    },
    {
      "cell_type": "code",
      "source": [
        "diabetes_data.target"
      ],
      "metadata": {
        "id": "5KuTzle0EFL3"
      },
      "execution_count": null,
      "outputs": []
    },
    {
      "cell_type": "code",
      "source": [
        "diabetes_data.DESCR"
      ],
      "metadata": {
        "id": "AwSNR4pJEDlK"
      },
      "execution_count": null,
      "outputs": []
    },
    {
      "cell_type": "code",
      "source": [
        "df.head()"
      ],
      "metadata": {
        "id": "-th1_Gd3EP--"
      },
      "execution_count": null,
      "outputs": []
    },
    {
      "cell_type": "code",
      "source": [
        "df.tail()"
      ],
      "metadata": {
        "id": "FIeFHvBLETJs"
      },
      "execution_count": null,
      "outputs": []
    },
    {
      "cell_type": "code",
      "source": [
        "df.shape"
      ],
      "metadata": {
        "id": "B1yM4QEhEVXu"
      },
      "execution_count": null,
      "outputs": []
    },
    {
      "cell_type": "code",
      "source": [
        "df.ndim"
      ],
      "metadata": {
        "id": "LL7OW47yEYPa"
      },
      "execution_count": null,
      "outputs": []
    },
    {
      "cell_type": "code",
      "source": [
        "df.columns"
      ],
      "metadata": {
        "id": "FZkwLqlHEawW"
      },
      "execution_count": null,
      "outputs": []
    },
    {
      "cell_type": "code",
      "source": [
        "random_df=pd.DataFrame(np.random.rand(30,10))\n",
        "random_df.head()"
      ],
      "metadata": {
        "id": "ZkSiYY7gEeGQ"
      },
      "execution_count": null,
      "outputs": []
    },
    {
      "cell_type": "code",
      "source": [
        "random_df.shape"
      ],
      "metadata": {
        "id": "WyZR9XN0Eum-"
      },
      "execution_count": null,
      "outputs": []
    },
    {
      "cell_type": "code",
      "source": [
        "df.info()"
      ],
      "metadata": {
        "id": "4ph_dP4YEyC9"
      },
      "execution_count": null,
      "outputs": []
    },
    {
      "cell_type": "code",
      "source": [
        "df.isnull().sum()"
      ],
      "metadata": {
        "id": "HzlVK4s1E3QJ"
      },
      "execution_count": null,
      "outputs": []
    },
    {
      "cell_type": "markdown",
      "source": [
        "### **Bivariate** **Analysis**"
      ],
      "metadata": {
        "id": "ES2JiIfOQIEc"
      }
    },
    {
      "cell_type": "markdown",
      "source": [
        "# *Scatter Plot* "
      ],
      "metadata": {
        "id": "0mvL1z9UQMMx"
      }
    },
    {
      "cell_type": "code",
      "source": [
        "sns.scatterplot(x=df[\"age\"],y=df[\"sex\"],hue=df[\"bp\"])"
      ],
      "metadata": {
        "id": "6eYtI2tkE9W8"
      },
      "execution_count": null,
      "outputs": []
    },
    {
      "cell_type": "markdown",
      "source": [
        "## **PairPlot**"
      ],
      "metadata": {
        "id": "hZ1RjY3rQa-O"
      }
    },
    {
      "cell_type": "code",
      "source": [
        "import sys\n",
        "if not sys.warnoptions:\n",
        "  import warnings\n",
        "  warnings.simplefilter(\"ignore\")"
      ],
      "metadata": {
        "id": "yDNhBY50IiRv"
      },
      "execution_count": null,
      "outputs": []
    },
    {
      "cell_type": "code",
      "source": [
        "sns.pairplot(df,hue=\"s6\",size=4)"
      ],
      "metadata": {
        "id": "8lYhcip0IVgx"
      },
      "execution_count": null,
      "outputs": []
    },
    {
      "cell_type": "markdown",
      "source": [
        "### **Univariate Analysis**"
      ],
      "metadata": {
        "id": "JTwvNMaJQm9-"
      }
    },
    {
      "cell_type": "markdown",
      "source": [
        "## **Histogram**"
      ],
      "metadata": {
        "id": "2vMwbbVDQiqT"
      }
    },
    {
      "cell_type": "code",
      "source": [
        "plt.hist(df[\"bmi\"])\n",
        "plt.show()"
      ],
      "metadata": {
        "id": "3SYu9dqhKr2M"
      },
      "execution_count": null,
      "outputs": []
    },
    {
      "cell_type": "code",
      "source": [
        "plt.hist(df[\"bmi\"],bins=30)\n",
        "plt.show()"
      ],
      "metadata": {
        "id": "A1klGNirGkNF"
      },
      "execution_count": null,
      "outputs": []
    },
    {
      "cell_type": "code",
      "source": [
        "plt.hist(df[\"bmi\"],bins=30,rwidth=0.5,color=\"red\")\n",
        "plt.title(\"Histplot for Body Mass Index\")\n",
        "plt.show()"
      ],
      "metadata": {
        "id": "2NYaijSxLycj"
      },
      "execution_count": null,
      "outputs": []
    },
    {
      "cell_type": "markdown",
      "source": [
        "### **BoxPlot**"
      ],
      "metadata": {
        "id": "34Vq-GLZQwSI"
      }
    },
    {
      "cell_type": "code",
      "source": [
        "sns.boxplot(df[\"bp\"],orient=\"h\",color=\"red\")\n",
        "plt.show()"
      ],
      "metadata": {
        "id": "b3j2wNzDNASM"
      },
      "execution_count": null,
      "outputs": []
    }
  ]
}